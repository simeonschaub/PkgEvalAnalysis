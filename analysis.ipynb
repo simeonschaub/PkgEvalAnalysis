{
 "cells": [
  {
   "cell_type": "code",
   "execution_count": 1,
   "metadata": {},
   "outputs": [
    {
     "name": "stderr",
     "output_type": "stream",
     "text": [
      "\u001b[32m\u001b[1m Activating\u001b[22m\u001b[39m environment at `~/Documents/Julia/PkgEvalAnalysis/Project.toml`\n",
      "┌ Info: Precompiling DataFrames [a93c6f00-e57d-5684-b7b6-d8193f3e46c0]\n",
      "└ @ Base loading.jl:1278\n",
      "┌ Info: Precompiling Feather [becb17da-46f6-5d3c-ad1b-1c5fe96bc73c]\n",
      "└ @ Base loading.jl:1278\n"
     ]
    }
   ],
   "source": [
    "import Pkg\n",
    "Pkg.activate(\".\")\n",
    "using DataFrames, Feather"
   ]
  },
  {
   "cell_type": "code",
   "execution_count": 108,
   "metadata": {},
   "outputs": [],
   "source": [
    "@enum FailureType begin\n",
    "    # General ones\n",
    "    MacroTools\n",
    "    Unknown\n",
    "    CanonicalTraits\n",
    "    ApproxError\n",
    "    AstroTime\n",
    "    TestStdlib\n",
    "    JuliaInterpreter\n",
    "    PairwiseListMatrices\n",
    "    PDDL\n",
    "    QuickTypes\n",
    "    TensorKit\n",
    "end"
   ]
  },
  {
   "cell_type": "code",
   "execution_count": 95,
   "metadata": {
    "scrolled": true
   },
   "outputs": [],
   "source": [
    "if !isdir(\"data\")\n",
    "    run(`tar -xvf data.tar.gz`)\n",
    "end\n",
    "primary  = Feather.read(\"data/primary.feather\");\n",
    "against = Feather.read(\"data/against.feather\");"
   ]
  },
  {
   "cell_type": "code",
   "execution_count": 96,
   "metadata": {},
   "outputs": [],
   "source": [
    "package_results = join(primary, against,\n",
    "     on=:uuid, kind=:left, makeunique=true, indicator=:source);"
   ]
  },
  {
   "cell_type": "code",
   "execution_count": 97,
   "metadata": {},
   "outputs": [],
   "source": [
    "changed_tests = filter(test->test.source == \"both\" &&\n",
    "                 test.status != test.status_1, package_results)\n",
    "fails = changed_tests[changed_tests[!, :status] .== \":fail\", :];\n",
    "sort!(fails , :name);\n",
    "insert!(fails, size(fails, 2), fill(Unknown, size(fails, 1)), :why);"
   ]
  },
  {
   "cell_type": "code",
   "execution_count": 98,
   "metadata": {},
   "outputs": [
    {
     "data": {
      "text/plain": [
       "total_unknown (generic function with 1 method)"
      ]
     },
     "execution_count": 98,
     "metadata": {},
     "output_type": "execute_result"
    }
   ],
   "source": [
    "query(fails, s) = filter(row -> occursin(s, row[:log]), fails)    \n",
    "\n",
    "function update_reason!(fails, needle, why)\n",
    "    idxs = findall(row -> occursin(needle, row), fails.log)\n",
    "    fails.why[idxs] .= why\n",
    "    return fails\n",
    "end\n",
    "\n",
    "total_unknown(fails) = count(x -> x.why == Unknown, eachrow(fails))"
   ]
  },
  {
   "cell_type": "code",
   "execution_count": 109,
   "metadata": {},
   "outputs": [],
   "source": [
    "# Generic ones\n",
    "update_reason!(fails, \"@ MacroTools ~/.julia/packages/MacroTools/X77lQ/src/utils.jl:322\", MacroTools)\n",
    "update_reason!(fails, \"@ MacroTools ~/.julia/packages/MacroTools/X77lQ/src/utils.jl:327\", MacroTools)\n",
    "update_reason!(fails, \"@ MacroTools ~/.julia/packages/MacroTools/X77lQ/src/utils.jl:334\", MacroTools)\n",
    "update_reason!(fails, \"@ ~/.julia/packages/MacroTools/X77lQ/src/utils.jl:44\", MacroTools)\n",
    "update_reason!(fails, \"@ Zygote ~/.julia/packages/Zygote/1GXzF/src/lib/grad.jl:7\", MacroTools)\n",
    "update_reason!(fails, \"@ ~/.julia/packages/MacroTools/X77lQ/src/match/macro.jl:72\", MacroTools)\n",
    "\n",
    "update_reason!(fails, \"@ CanonicalTraits ~/.julia/packages/CanonicalTraits/jEjaE/src/Typeclasses.jl:42\", CanonicalTraits)\n",
    "update_reason!(fails, \"@ AstroTime ~/.julia/packages/AstroTime/ArvEM/src/AstroTime.jl:160\", AstroTime)\n",
    "update_reason!(fails, \"@ /workspace/srcdir/usr/share/julia/stdlib/v1.6/Test/src/Test.jl:1102\", TestStdlib)\n",
    "update_reason!(fails, \"@ ~/.julia/packages/JuliaInterpreter/UwKTd/src/breakpoints.jl:416\", JuliaInterpreter)\n",
    "update_reason!(fails, \"LoadError: syntax: invalid assignment location \\\"PairwiseListMatrices.t\\\"\", PairwiseListMatrices)\n",
    "update_reason!(fails, \"@ PDDL ~/.julia/packages/PDDL/vLSH8/src/core.jl:84\", PDDL)\n",
    "update_reason!(fails, \"@ QuickTypes ~/.julia/packages/QuickTypes/Uwyvo/src/QuickTypes.jl:144\", QuickTypes)\n",
    "update_reason!(fails, \"@ ~/.julia/packages/TensorKit/CMOeD/test/sectors.jl:12\", TensorKit)\n",
    "\n",
    "update_reason!(fails, \"Expression: isapprox\", ApproxError)\n",
    "update_reason!(fails, \"Expression: ≈\", ApproxError)\n",
    "\n",
    "nothing"
   ]
  },
  {
   "cell_type": "code",
   "execution_count": 110,
   "metadata": {},
   "outputs": [
    {
     "data": {
      "text/plain": [
       "9"
      ]
     },
     "execution_count": 110,
     "metadata": {},
     "output_type": "execute_result"
    }
   ],
   "source": [
    "total_unknown(fails)"
   ]
  },
  {
   "cell_type": "code",
   "execution_count": 118,
   "metadata": {
    "scrolled": true
   },
   "outputs": [
    {
     "data": {
      "text/plain": [
       "5-element Array{String,1}:\n",
       " \"ConstantTime\"\n",
       " \"Curve25519\"\n",
       " \"DarkCurves\"\n",
       " \"DarkIntegers\"\n",
       " \"Jute\""
      ]
     },
     "execution_count": 118,
     "metadata": {},
     "output_type": "execute_result"
    }
   ],
   "source": [
    "filter(x -> x.why == Unknown, fails).name\n",
    "filter(x -> x.why == TestStdlib, fails).name"
   ]
  },
  {
   "cell_type": "code",
   "execution_count": 113,
   "metadata": {
    "scrolled": true
   },
   "outputs": [
    {
     "data": {
      "text/plain": [
       "11-element Array{Any,1}:\n",
       " (223, MacroTools)\n",
       " (9, Unknown)\n",
       " (5, TestStdlib)\n",
       " (5, CanonicalTraits)\n",
       " (2, QuickTypes)\n",
       " (2, PairwiseListMatrices)\n",
       " (1, TensorKit)\n",
       " (1, PDDL)\n",
       " (1, JuliaInterpreter)\n",
       " (1, AstroTime)\n",
       " (1, ApproxError)"
      ]
     },
     "execution_count": 113,
     "metadata": {},
     "output_type": "execute_result"
    }
   ],
   "source": [
    "z = []\n",
    "for i in instances(FailureType)\n",
    "    n = count(row -> row.why == i, eachrow(fails))\n",
    "    push!(z, (n, i))\n",
    "end\n",
    "sort!(z; rev=true)"
   ]
  },
  {
   "cell_type": "code",
   "execution_count": 117,
   "metadata": {},
   "outputs": [
    {
     "data": {
      "text/html": [
       "<table class=\"data-frame\"><thead><tr><th></th><th>name</th><th>undefvarerror</th></tr><tr><th></th><th>String</th><th>Bool</th></tr></thead><tbody><p>9 rows × 2 columns</p><tr><th>1</th><td>BioServices</td><td>0</td></tr><tr><th>2</th><td>EliminateGraphs</td><td>0</td></tr><tr><th>3</th><td>ITensors</td><td>0</td></tr><tr><th>4</th><td>LogisticOptTools</td><td>0</td></tr><tr><th>5</th><td>LoweredCodeUtils</td><td>1</td></tr><tr><th>6</th><td>NDTensors</td><td>0</td></tr><tr><th>7</th><td>Poltergeist</td><td>0</td></tr><tr><th>8</th><td>StatsKit</td><td>0</td></tr><tr><th>9</th><td>Theta</td><td>0</td></tr></tbody></table>"
      ],
      "text/latex": [
       "\\begin{tabular}{r|cc}\n",
       "\t& name & undefvarerror\\\\\n",
       "\t\\hline\n",
       "\t& String & Bool\\\\\n",
       "\t\\hline\n",
       "\t1 & BioServices & 0 \\\\\n",
       "\t2 & EliminateGraphs & 0 \\\\\n",
       "\t3 & ITensors & 0 \\\\\n",
       "\t4 & LogisticOptTools & 0 \\\\\n",
       "\t5 & LoweredCodeUtils & 1 \\\\\n",
       "\t6 & NDTensors & 0 \\\\\n",
       "\t7 & Poltergeist & 0 \\\\\n",
       "\t8 & StatsKit & 0 \\\\\n",
       "\t9 & Theta & 0 \\\\\n",
       "\\end{tabular}\n"
      ],
      "text/plain": [
       "9×2 DataFrame\n",
       "│ Row │ name             │ undefvarerror │\n",
       "│     │ \u001b[90mString\u001b[39m           │ \u001b[90mBool\u001b[39m          │\n",
       "├─────┼──────────────────┼───────────────┤\n",
       "│ 1   │ BioServices      │ 0             │\n",
       "│ 2   │ EliminateGraphs  │ 0             │\n",
       "│ 3   │ ITensors         │ 0             │\n",
       "│ 4   │ LogisticOptTools │ 0             │\n",
       "│ 5   │ LoweredCodeUtils │ 1             │\n",
       "│ 6   │ NDTensors        │ 0             │\n",
       "│ 7   │ Poltergeist      │ 0             │\n",
       "│ 8   │ StatsKit         │ 0             │\n",
       "│ 9   │ Theta            │ 0             │"
      ]
     },
     "execution_count": 117,
     "metadata": {},
     "output_type": "execute_result"
    }
   ],
   "source": [
    "unknownfails = filter(x -> x.why == Unknown, fails)\n",
    "unknownfails.undefvarerror = occursin.(\"UndefVarError\", unknownfails.log)\n",
    "unknownfails[!, [:name, :undefvarerror]]"
   ]
  },
  {
   "cell_type": "code",
   "execution_count": null,
   "metadata": {},
   "outputs": [],
   "source": []
  }
 ],
 "metadata": {
  "@webio": {
   "lastCommId": "edc31e06dc0043678345c3dacd547859",
   "lastKernelId": "48310149-fead-4fcb-97f4-c5b347975abf"
  },
  "kernelspec": {
   "display_name": "Julia 1.5.1",
   "language": "julia",
   "name": "julia-1.5"
  },
  "language_info": {
   "file_extension": ".jl",
   "mimetype": "application/julia",
   "name": "julia",
   "version": "1.5.1"
  },
  "latex_envs": {
   "LaTeX_envs_menu_present": true,
   "autoclose": false,
   "autocomplete": true,
   "bibliofile": "biblio.bib",
   "cite_by": "apalike",
   "current_citInitial": 1,
   "eqLabelWithNumbers": true,
   "eqNumInitial": 1,
   "hotkeys": {
    "equation": "Ctrl-E",
    "itemize": "Ctrl-I"
   },
   "labels_anchors": false,
   "latex_user_defs": false,
   "report_style_numbering": false,
   "user_envs_cfg": false
  }
 },
 "nbformat": 4,
 "nbformat_minor": 4
}
